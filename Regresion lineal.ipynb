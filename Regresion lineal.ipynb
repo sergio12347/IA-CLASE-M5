{
 "cells": [
  {
   "cell_type": "markdown",
   "metadata": {},
   "source": [
    "# ejrcicio de regrecion lineal\n"
   ]
  },
  {
   "cell_type": "markdown",
   "metadata": {},
   "source": [
    "en este notebook vamos a describir paso a paso un ejercicio de prediccion, a traves de regresion lineal , de la cantidad de ocasiones en que se conparte un articulo del area de machine learning en un blog"
   ]
  },
  {
   "cell_type": "markdown",
   "metadata": {},
   "source": [
    "# prediccion: cantidad de ocasiones en que se comparte un articulo de un blog"
   ]
  },
  {
   "cell_type": "markdown",
   "metadata": {},
   "source": [
    "se inicia importando, ajustando y visualizando los datos."
   ]
  },
  {
   "cell_type": "code",
   "execution_count": null,
   "metadata": {},
   "outputs": [],
   "source": [
    "#se carga el archivo de datos de entradas csv como dataset de pandas. los datos provienen del sitio web://www.kdnuggets.com\n",
    "data = pd.read_csv(\"./articulos de blog ml.csv\")"
   ]
  },
  {
   "cell_type": "markdown",
   "metadata": {},
   "source": [
    "pandas es una libreria de Python destinadas a analisis de datos, que proporciona estructuras de datos flexibles de datos flexibles las cuales permiten trabajar con ellos de forma eficiente. Pandas ofrece las siguientes estructuas sde datos: Serires:son array con indexacion(array con indice o etiquetados), similar a los diccionarios. puede generarse a partir de diccionarios de las listas\n"
   ]
  },
  {
   "cell_type": "code",
   "execution_count": null,
   "metadata": {},
   "outputs": [],
   "source": [
    "#Reisamos la dimension (egistros x columnas) que contiene el archivo\n",
    "data.shape"
   ]
  },
  {
   "cell_type": "code",
   "execution_count": null,
   "metadata": {},
   "outputs": [],
   "source": [
    "# podemos revisar los primeros rgistros para comprobar el funcionamiento.\n",
    "data.head()"
   ]
  },
  {
   "cell_type": "markdown",
   "metadata": {},
   "source": [
    "vemos que algunos atributos(columnas) tienen valor nulo NaN; por ejemplo, en el atributo \"url\"\n",
    "En este caso el atributo Share sera la salida; el valor \"Y\" del modelo regresion lineal, el valor que se desea predecir."
   ]
  },
  {
   "cell_type": "code",
   "execution_count": null,
   "metadata": {},
   "outputs": [],
   "source": [
    "# se realizara estadisticas dscriptivas para tener un conocimiento inicial de los datos:\n",
    "data.describe()"
   ]
  },
  {
   "cell_type": "markdown",
   "metadata": {},
   "source": [
    "se observa, por ejemplo, la medida del atributo word count(cantidad de palabras) es de 1808.26\n",
    "Tambien se observa que el articulo"
   ]
  },
  {
   "cell_type": "markdown",
   "metadata": {},
   "source": [
    "### visualizacion general"
   ]
  },
  {
   "cell_type": "code",
   "execution_count": null,
   "metadata": {},
   "outputs": [],
   "source": [
    "# se visualiza los atributos de entrada mdiante histogramas y barras(cuantitativas y cualtativas)\n",
    "data.drop(['Title', 'url', 'Elapsed day'],1).hist()\n",
    "plt.show()"
   ]
  },
  {
   "cell_type": "markdown",
   "metadata": {},
   "source": [
    "las graficas anteriores comunican entre que valores se concentran la mayoria de los rgistros. seguidamente se filtran los datos por cantidad de palabras dejando los registros con menos de 3500 palabras y tambien #Share con menos 80.00"
   ]
  },
  {
   "cell_type": "markdown",
   "metadata": {},
   "source": [
    "# se puede visualizar por ejemplo Cantidad de palabras vs compartidos"
   ]
  },
  {
   "cell_type": "code",
   "execution_count": null,
   "metadata": {},
   "outputs": [],
   "source": [
    "#visualizar datos de entrada\n",
    "colores = ['orange','blue']\n",
    "tamanios=['30','60']\n",
    "\n",
    "f1 = data['Word count'].values\n",
    "f2 = data['# Share']. values\n",
    "\n",
    "#pintar en 2 coloreslos puntos por debajo de la media de cantidad de palabras\n",
    "asignar =[]\n",
    "\n",
    "for index,row in data.iterrows():\n",
    "    if(row['Word count']>1808):\n",
    "        asignar.append(colores[0])\n",
    "    else:\n",
    "        asignar.append(colores[1])\n",
    "plt.scatter(f1, f2, c=asignar, s=tamanios[0])\n",
    "plt.show()"
   ]
  },
  {
   "cell_type": "code",
   "execution_count": null,
   "metadata": {},
   "outputs": [],
   "source": [
    "#visualizar los datos en la zona donde se concentran los puntos.\n",
    "#esto es en el eje x: entre 0 y 3500.\n",
    "#en el Y: entre 0 y 80.00\n",
    "filtered_data = data[data['Word count'] <= 3500 & (data['# Share'] <= 80000)]\n",
    "\n",
    "f1 = data['Word count'].values\n",
    "f2 = data['# Share']. values\n",
    "\n",
    "#pintar en colores los puntos por debajo y por encima de la mdia de cantidad de palabras\n",
    "asignar=[]\n",
    "for index, row in filtered_data.iterrows():\n",
    "    if(row['Word count']>1808):\n",
    "        asignar.append(colores[0])\n",
    "    else:\n",
    "        asignar.append(colores[1])\n",
    "    \n",
    "plt.scatter(f1, f2, c=asignar, s=tamanios[0])\n",
    "plt.show()"
   ]
  },
  {
   "cell_type": "code",
   "execution_count": null,
   "metadata": {},
   "outputs": [],
   "source": [
    "# se revisan los cambios de valores"
   ]
  },
  {
   "cell_type": "markdown",
   "metadata": {},
   "source": [
    "### Regresion Lineal Simple (1 atributo con Python y SkLearn) "
   ]
  },
  {
   "cell_type": "code",
   "execution_count": null,
   "metadata": {},
   "outputs": [],
   "source": [
    "# se asigna el atributo de entrada x para entretenimiento y las etiquetas Y\n",
    "dataX = filtered_data[[\"Word count\"]]\n",
    "\n",
    "X_train = np.array(dataX)\n",
    "Y_train = filtered_data['# Share'].values"
   ]
  },
  {
   "cell_type": "code",
   "execution_count": null,
   "metadata": {},
   "outputs": [],
   "source": [
    "# Se genera el objeto de regresion lineal\n",
    "regr = linear_model.LinearRegression()\n",
    "\n",
    "# Se entrena el modelo \n",
    "regr.fit(x_train, y_train)\n",
    "\n",
    "# Se realizan las predicciones\n",
    "y_pred = regr.predict(x_train)\n",
    "\n",
    "# Se revisan los coefientes obtenidos. En este caso la tangente\n",
    "print('Coeficientes: \\n', regr.coef_)\n",
    "# Este es valor de donde corta el eje Y (x=0)\n",
    "print('Termino Independiente: \\n', regr.intercept_)\n",
    "# Error cuadrado medio\n",
    "print('Meida del error cudrado %.2f' % mean_squared_error(y_train, y_pred))\n",
    "# Puntaje de varianza. El mejor puntaje es un 1.0\n",
    "print('Puntaje de la varianza: %.2f' % r2_score(y_train, y_pred))"
   ]
  },
  {
   "cell_type": "markdown",
   "metadata": {},
   "source": [
    "De la ecuacion de la recta y = mx + b la pendiente \"m\" es el coeficiente 5.69765366 y el termino indepenienete"
   ]
  },
  {
   "cell_type": "markdown",
   "metadata": {},
   "source": [
    "# visualizacion de la recta obtenida"
   ]
  },
  {
   "cell_type": "code",
   "execution_count": null,
   "metadata": {},
   "outputs": [],
   "source": [
    "plt.scatter(X_train[:,0], Y_train, c=asignar, s=tamanios[0])\n",
    "plt.plot(X_train[:,0], Y_pred, color='red', linewidth=3)\n",
    "\n",
    "plt.xlabel('cantidad de palabras')\n",
    "plt.ylabel('cantidad de veces que se compartio')\n",
    "plt.title('regresion lineal')\n",
    "\n",
    "plt.show()"
   ]
  },
  {
   "cell_type": "markdown",
   "metadata": {},
   "source": [
    "# prediccion 1"
   ]
  },
  {
   "cell_type": "code",
   "execution_count": null,
   "metadata": {},
   "outputs": [],
   "source": [
    "# predecir\n",
    "# cuantos \"Share\" se obtendra por un articulo de 2000 palabras\n",
    "y_dosMil = regr.predict([[2000]])\n",
    "print('Cantidad predecida: ', int(y_dosMil))"
   ]
  },
  {
   "cell_type": "markdown",
   "metadata": {},
   "source": [
    "Devuelve una prediccion de 22595 \"Share\" para un articulo de 2000 palabras\n",
    "\n",
    "como podemos mejorar el modelo?"
   ]
  },
  {
   "cell_type": "markdown",
   "metadata": {},
   "source": [
    "# Regresion Lineal Multiple(multiples atributos)"
   ]
  },
  {
   "cell_type": "markdown",
   "metadata": {},
   "source": [
    "se modifica el ejercicio utilizao mas de una variable de entrada para el modelo. esto le da mayor precision al algoritmo de machine learning, de esta manera puede obtener predicciones mas complejas.\n",
    "\n",
    "la ecuacion de la recta sera:\n",
    "\n",
    "y = b + m1 + m2 x2+ ...+m(n) x(n)\n",
    "\n",
    "(deja de ser una recta)\n",
    "\n",
    "en este caso, se utilizan 2 \"atributos predictivos\" para poder graficar en 3D.\n",
    "el primer atributo seguira siendo la cantidad de palabras y el segundo atributo sera la suma de las 3 columnas de entrada(cantidad de enlaces, comentarios y cantidad de imagenes)"
   ]
  },
  {
   "cell_type": "code",
   "execution_count": null,
   "metadata": {},
   "outputs": [],
   "source": [
    "# se pudiera mejorar el modelo, con una dimension mas\n",
    "# para poder graficar en 3D, se in cluye atributo estra que son la union de enlaces, comentarios e imagenes.\n",
    "union = (filtered_data[\"# of links\"] + filtered_data['# of comments'].fillna(0) + filtered_data['# Images video'])\n",
    "\n",
    "dataX2 = pd.DataFrame()\n",
    "dataX2[\"Word count\"] = filtered_data[\"Word count\"]\n",
    "dataX2"
   ]
  },
  {
   "cell_type": "code",
   "execution_count": null,
   "metadata": {},
   "outputs": [],
   "source": []
  },
  {
   "cell_type": "code",
   "execution_count": null,
   "metadata": {},
   "outputs": [],
   "source": []
  },
  {
   "cell_type": "markdown",
   "metadata": {},
   "source": [
    "# se visualiza en 3 dimensiones"
   ]
  },
  {
   "cell_type": "code",
   "execution_count": null,
   "metadata": {},
   "outputs": [],
   "source": [
    "fig = plt.figure()\n",
    "ax = Axes3D(fig)\n",
    "\n",
    "# se genera una malla, sobre la cual e grafica el plano\n",
    "xx, yy = np.meshgrid(np.linspace(0, 3500, num=10), np.linspace(0, 60, num=10))\n",
    "\n",
    "# se calcula los valores del plano para los puntos x e y\n",
    "nuevoX = (regr2.coef_[0] * xx)\n",
    "nuevoY = (regr2.coef_[1] * yy)\n",
    "\n",
    "# al igual los correspondiente valores para z. se debe sumar al punto de intercepcion.\n",
    "z = (nuevoX +  nuevoY + regr2intercep_)\n",
    "\n",
    "#se graficael plano\n",
    "ax.plot_surface(xx, yy, z, alpha=0.2, cmap='hot')\n",
    "\n",
    "#en azul los puntos en 3D\n",
    "ax,scatter(XY_train[:,0],XY_train[:,1] z_train, c='blue', s=30)\n",
    "\n",
    "ax,scatter(XY_train[:,0],XY_train[:,1] z_pred, c='red', s=40)\n",
    "\n",
    "#con esto se situa la camara con la que se visualiza\n",
    "ax.view_init(elev=30., azin=65)\n",
    "\n",
    "ax.set_xlabel('Cantidad de palabras')\n",
    "ax.set_ylabel('Cantidad de enlaces, comentarios e imagenes')\n",
    "ax.set_zlabel('Cantidad de veces compartidos')\n",
    "ax.set_title('Regresion lineal con multiples atributos')"
   ]
  },
  {
   "cell_type": "markdown",
   "metadata": {},
   "source": [
    "se puede rotar el grafico para apreciar el plano desde ángulos, modificando el valor del parametro azi en view_init con numero del 0 360."
   ]
  },
  {
   "cell_type": "markdown",
   "metadata": {},
   "source": [
    "## predicción 2, modelo de multiples atributos. "
   ]
  },
  {
   "cell_type": "markdown",
   "metadata": {},
   "source": [
    "¿Qué predicción se tendra para un articulo de 2000 palabras, con 10 enlaces, 4 comentarios y 6 imagenes?"
   ]
  },
  {
   "cell_type": "code",
   "execution_count": null,
   "metadata": {},
   "outputs": [],
   "source": [
    "# ¿Cuantos \"shares\" se obtendran por un articulocon: ?\n",
    "# 2000 palabras y con enlaces: 10, comentarios: 4, imagens: 6\n",
    "# segun el modelo, se hace:\n",
    "z_Dosmil = regr.predict([[2000, 10+4+6]])\n",
    "print('CAntidad predecida :', int(z_Dosmil))"
   ]
  },
  {
   "cell_type": "markdown",
   "metadata": {},
   "source": [
    "La prediccion queda en 20518 y probablemente sea un poco mejor que la prediccion anterior de 1 un atributo."
   ]
  },
  {
   "cell_type": "markdown",
   "metadata": {},
   "source": [
    "# Comparacion de las predicciones obtenidas en los modelos"
   ]
  },
  {
   "cell_type": "markdown",
   "metadata": {},
   "source": [
    "en este caso, se obtiene mejora en el modelo de 2 dimensiones."
   ]
  },
  {
   "cell_type": "code",
   "execution_count": null,
   "metadata": {},
   "outputs": [],
   "source": [
    "# se resta los errores calculados antes.... Obviamente, \"menos error\" es mejor\n",
    "mejoraEnError = mean_squared_error(y_train, y_pred) - mean_squared_error(z_train, z_pred)\n",
    "print('Mejra en el error : ', mejoraEnError)"
   ]
  },
  {
   "cell_type": "code",
   "execution_count": null,
   "metadata": {},
   "outputs": [],
   "source": [
    "# tambien se calcula la mejor varianza\n",
    "mejoraEnVarianza = r2_score(z_train, z_pred) - r2_score(y_train, y_pred)\n",
    "print('Mejra en el varianza : ', mejoraEnVarianza)\n",
    "# aunque no parezca mucho, recurde que el valor mas alto que se puede obtener es 1.0"
   ]
  },
  {
   "cell_type": "code",
   "execution_count": null,
   "metadata": {},
   "outputs": [],
   "source": [
    "#y aunque disminuyen os \"share\" obtenidas en el 2do modelo, se observa una mejora de la prediccion de un articulo\n",
    "# de 2.000 palabras, pues seguramente sera un valor mas cercano a la realidad\n",
    "iferenciaComparir = z_Dosmil - y_Dosmil\n",
    "print('Comparacion a traves dde la diferencia : ', int(diferenciaComparir))"
   ]
  },
  {
   "cell_type": "markdown",
   "metadata": {},
   "source": [
    "# notas finales...posibles mejoras"
   ]
  },
  {
   "cell_type": "markdown",
   "metadata": {},
   "source": [
    "se ejemplifico el como utilizar sklear"
   ]
  },
  {
   "cell_type": "code",
   "execution_count": null,
   "metadata": {},
   "outputs": [],
   "source": []
  }
 ],
 "metadata": {
  "kernelspec": {
   "display_name": "Python 3",
   "language": "python",
   "name": "python3"
  },
  "language_info": {
   "codemirror_mode": {
    "name": "ipython",
    "version": 3
   },
   "file_extension": ".py",
   "mimetype": "text/x-python",
   "name": "python",
   "nbconvert_exporter": "python",
   "pygments_lexer": "ipython3",
   "version": "3.7.4"
  }
 },
 "nbformat": 4,
 "nbformat_minor": 2
}
