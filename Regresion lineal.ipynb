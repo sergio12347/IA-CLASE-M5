{
 "cells": [
  {
   "cell_type": "markdown",
   "metadata": {},
   "source": [
    "# ejrcicio de regrecion lineal\n"
   ]
  },
  {
   "cell_type": "markdown",
   "metadata": {},
   "source": [
    "en este notebook vamos a describir paso a paso un ejercicio de prediccion, a traves de regresion lineal , de la cantidad de ocasiones en que se conparte un articulo del area de machine learning en un blog"
   ]
  },
  {
   "cell_type": "markdown",
   "metadata": {},
   "source": [
    "# prediccion: cantidad de ocasiones en que se comparte un articulo de un blog"
   ]
  },
  {
   "cell_type": "markdown",
   "metadata": {},
   "source": [
    "se inicia importando, ajustando y visualizando los datos."
   ]
  },
  {
   "cell_type": "code",
   "execution_count": null,
   "metadata": {},
   "outputs": [],
   "source": [
    "#se carga el archivo de datos de entradas csv como dataset de pandas. los datos provienen del sitio web://www.kdnuggets.com\n",
    "data = pd.read_csv(\"./articulos de blog ml.csv\")"
   ]
  },
  {
   "cell_type": "markdown",
   "metadata": {},
   "source": [
    "pandas es una libreria de Python destinadas a analisis de datos, que proporciona estructuras de datos flexibles de datos flexibles las cuales permiten trabajar con ellos de forma eficiente. Pandas ofrece las siguientes estructuas sde datos: Serires:son array con indexacion(array con indice o etiquetados), similar a los diccionarios. puede generarse a partir de diccionarios de las listas\n"
   ]
  },
  {
   "cell_type": "code",
   "execution_count": null,
   "metadata": {},
   "outputs": [],
   "source": [
    "#Reisamos la dimension (egistros x columnas) que contiene el archivo\n",
    "data.shape"
   ]
  },
  {
   "cell_type": "code",
   "execution_count": null,
   "metadata": {},
   "outputs": [],
   "source": [
    "# podemos revisar los primeros rgistros para comprobar el funcionamiento.\n",
    "data.head()"
   ]
  },
  {
   "cell_type": "markdown",
   "metadata": {},
   "source": [
    "vemos que algunos atributos(columnas) tienen valor nulo NaN; por ejemplo, en el atributo \"url\"\n",
    "En este caso el atributo Share sera la salida; el valor \"Y\" del modelo regresion lineal, el valor que se desea predecir."
   ]
  },
  {
   "cell_type": "code",
   "execution_count": null,
   "metadata": {},
   "outputs": [],
   "source": [
    "# se realizara estadisticas dscriptivas para tener un conocimiento inicial de los datos:\n",
    "data.describe()"
   ]
  },
  {
   "cell_type": "markdown",
   "metadata": {},
   "source": [
    "se observa, por ejemplo, la medida del atributo word count(cantidad de palabras) es de 1808.26\n",
    "Tambien se observa que el articulo"
   ]
  },
  {
   "cell_type": "markdown",
   "metadata": {},
   "source": [
    "### visualizacion general"
   ]
  },
  {
   "cell_type": "code",
   "execution_count": null,
   "metadata": {},
   "outputs": [],
   "source": [
    "# se visualiza los atributos de entrada mdiante histogramas y barras(cuantitativas y cualtativas)\n",
    "data.drop(['Title', 'url', 'Elapsed day'],1).hist()\n",
    "plt.show()"
   ]
  },
  {
   "cell_type": "markdown",
   "metadata": {},
   "source": [
    "las graficas anteriores comunican entre que valores se concentran la mayoria de los rgistros. seguidamente se filtran los datos por cantidad de palabras dejando los registros con menos de 3500 palabras y tambien #Share con menos 80.00"
   ]
  },
  {
   "cell_type": "markdown",
   "metadata": {},
   "source": [
    "# se puede visualizar por ejemplo Cantidad de palabras vs compartidos"
   ]
  },
  {
   "cell_type": "code",
   "execution_count": null,
   "metadata": {},
   "outputs": [],
   "source": [
    "#visualizar datos de entrada\n",
    "colores = ['orange','blue']\n",
    "tamanios=['30','60']\n",
    "\n",
    "f1 = data['Word count'].values\n",
    "f2 = data['# Share']. values\n",
    "\n",
    "#pintar en 2 coloreslos puntos por debajo de la media de cantidad de palabras\n",
    "asignar =[]\n",
    "\n",
    "for index,row in data.iterrows():\n",
    "    if(row['Word count']>1808):\n",
    "        asignar.append(colores[0])\n",
    "    else:\n",
    "        asignar.append(colores[1])\n",
    "plt.scatter(f1, f2, c=asignar, s=tamanios[0])\n",
    "plt.show()"
   ]
  },
  {
   "cell_type": "code",
   "execution_count": null,
   "metadata": {},
   "outputs": [],
   "source": [
    "#visualizar los datos en la zona donde se concentran los puntos.\n",
    "#esto es en el eje x: entre 0 y 3500.\n",
    "#en el Y: entre 0 y 80.00\n",
    "filtered_data = data[data['Word count'] <= 3500 & (data['# Share'] <= 80000)]\n",
    "\n",
    "f1 = data['Word count'].values\n",
    "f2 = data['# Share']. values\n",
    "\n",
    "#pintar en colores los puntos por debajo y por encima de la mdia de cantidad de palabras\n",
    "asignar=[]\n",
    "for index, row in filtered_data.iterrows():\n",
    "    if(row['Word count']>1808):\n",
    "        asignar.append(colores[0])\n",
    "    else:\n",
    "        asignar.append(colores[1])\n",
    "    \n",
    "plt.scatter(f1, f2, c=asignar, s=tamanios[0])\n",
    "plt.show()"
   ]
  },
  {
   "cell_type": "code",
   "execution_count": null,
   "metadata": {},
   "outputs": [],
   "source": [
    "# se revisan los cambios de valores"
   ]
  },
  {
   "cell_type": "markdown",
   "metadata": {},
   "source": [
    "### Regresion Lineal Simple (1 atributo con Python y SkLearn) "
   ]
  },
  {
   "cell_type": "code",
   "execution_count": null,
   "metadata": {},
   "outputs": [],
   "source": [
    "# se asigna el atributo de entrada x para entretenimiento y las etiquetas Y\n",
    "dataX = filtered_data[[\"Word count\"]]\n",
    "\n",
    "X_train = np.array(dataX)\n",
    "Y_train = filtered_data['# Share'].values"
   ]
  },
  {
   "cell_type": "code",
   "execution_count": null,
   "metadata": {},
   "outputs": [],
   "source": [
    "# se genera el objeto de regresion lineal\n",
    "regr = linear_model.LinearRegression()\n",
    "\n",
    "#se entra el modelo\n",
    "regr.fit(X_train, Y_train)\n",
    "\n",
    "#se realiza  las prediciones \n",
    "y_pred = regr.predict(X_train)\n",
    "\n",
    "#se revisa los coeficientes obtendos, en este caso sera la tangente\n",
    "print('coeficiente:\\n', regr.coef_)\n",
    "#"
   ]
  },
  {
   "cell_type": "code",
   "execution_count": null,
   "metadata": {},
   "outputs": [],
   "source": []
  },
  {
   "cell_type": "code",
   "execution_count": null,
   "metadata": {},
   "outputs": [],
   "source": []
  }
 ],
 "metadata": {
  "kernelspec": {
   "display_name": "Python 3",
   "language": "python",
   "name": "python3"
  },
  "language_info": {
   "codemirror_mode": {
    "name": "ipython",
    "version": 3
   },
   "file_extension": ".py",
   "mimetype": "text/x-python",
   "name": "python",
   "nbconvert_exporter": "python",
   "pygments_lexer": "ipython3",
   "version": "3.7.4"
  }
 },
 "nbformat": 4,
 "nbformat_minor": 2
}
